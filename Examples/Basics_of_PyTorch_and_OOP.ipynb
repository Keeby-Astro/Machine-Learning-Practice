{
  "cells": [
    {
      "cell_type": "markdown",
      "metadata": {},
      "source": [
        "# Homework 4: Basics of PyTorch and OOP\n",
        "Name: Caden Matthews\n",
        "\n",
        "Date: 09/13/2024"
      ]
    },
    {
      "cell_type": "markdown",
      "metadata": {
        "id": "IVYvQuG0jvMt"
      },
      "source": [
        "\n",
        "In this exercise, you'll work with PyTorch tensors to perform basic operations and practice multidimensional indexing. You'll create a 3D tensor, perform some transformations, and extract specific elements using indexing techniques.\n",
        "\n",
        "The goal is to familiarize yourself with PyTorch's tensor operations and understand how to manipulate multidimensional data efficiently."
      ]
    },
    {
      "cell_type": "code",
      "execution_count": 20,
      "metadata": {
        "id": "eZEsFfVujsYB"
      },
      "outputs": [
        {
          "name": "stdout",
          "output_type": "stream",
          "text": [
            "Original 3D tensor:\n",
            "tensor([[[0, 2],\n",
            "         [8, 8],\n",
            "         [2, 7]],\n",
            "\n",
            "        [[3, 0],\n",
            "         [5, 3],\n",
            "         [3, 5]],\n",
            "\n",
            "        [[7, 7],\n",
            "         [0, 1],\n",
            "         [4, 9]],\n",
            "\n",
            "        [[8, 6],\n",
            "         [3, 5],\n",
            "         [9, 5]]])\n",
            "\n",
            "Multiplied tensor:\n",
            "tensor([[[ 0,  4],\n",
            "         [16, 16],\n",
            "         [ 4, 14]],\n",
            "\n",
            "        [[ 6,  0],\n",
            "         [10,  6],\n",
            "         [ 6, 10]],\n",
            "\n",
            "        [[14, 14],\n",
            "         [ 0,  2],\n",
            "         [ 8, 18]],\n",
            "\n",
            "        [[16, 12],\n",
            "         [ 6, 10],\n",
            "         [18, 10]]])\n",
            "\n",
            "Added tensor:\n",
            "tensor([[[ 5,  7],\n",
            "         [13, 13],\n",
            "         [ 7, 12]],\n",
            "\n",
            "        [[ 8,  5],\n",
            "         [10,  8],\n",
            "         [ 8, 10]],\n",
            "\n",
            "        [[12, 12],\n",
            "         [ 5,  6],\n",
            "         [ 9, 14]],\n",
            "\n",
            "        [[13, 11],\n",
            "         [ 8, 10],\n",
            "         [14, 10]]])\n",
            "\n",
            "Mean of the tensor:\n",
            "tensor(4.5833)\n",
            "\n",
            "Extracted sub-tensor:\n",
            "tensor([[[0, 1],\n",
            "         [4, 9]],\n",
            "\n",
            "        [[3, 5],\n",
            "         [9, 5]]])\n",
            "\n",
            "Maximum values:\n",
            "tensor([[2, 8, 7],\n",
            "        [3, 5, 5],\n",
            "        [7, 1, 9],\n",
            "        [8, 5, 9]])\n"
          ]
        }
      ],
      "source": [
        "import torch\n",
        "\n",
        "# Create a 3D tensor of size 4x3x2 filled with random integers between 0 and 9\n",
        "tensor_3d = torch.randint(0, 10, (4, 3, 2))\n",
        "print(\"Original 3D tensor:\")\n",
        "print(tensor_3d)\n",
        "\n",
        "# TODO: Multiply all elements of the tensor by 2\n",
        "\n",
        "tensor_3d_multiplied = tensor_3d * 2\n",
        "\n",
        "# TODO: Add 5 to all elements of the tensor\n",
        "\n",
        "tensor_3d_added = tensor_3d + 5\n",
        "\n",
        "# TODO: Calculate the mean of the entire tensor\n",
        "\n",
        "mean = torch.mean(tensor_3d.float())\n",
        "\n",
        "# TODO: Extract a 2x2 sub-tensor from the last two rows and columns of the middle layer (index 1)\n",
        "\n",
        "sub_tensor = tensor_3d[2:, 1:, :]\n",
        "\n",
        "# TODO: Find the maximum value in each of the 4 2x3 matrices\n",
        "\n",
        "max_values = torch.max(tensor_3d, dim=2).values\n",
        "\n",
        "# Print your results\n",
        "print(\"\\nMultiplied tensor:\")\n",
        "print(tensor_3d_multiplied)\n",
        "print(\"\\nAdded tensor:\")\n",
        "print(tensor_3d_added)\n",
        "print(\"\\nMean of the tensor:\")\n",
        "print(mean)\n",
        "print(\"\\nExtracted sub-tensor:\")\n",
        "print(sub_tensor)\n",
        "print(\"\\nMaximum values:\")\n",
        "print(max_values)"
      ]
    },
    {
      "cell_type": "markdown",
      "metadata": {
        "id": "Y1x9AnvUkijv"
      },
      "source": [
        "\n",
        "In this exercise, you'll explore PyTorch's broadcasting capabilities, understand the differences between reshape and view operations, and learn how to transfer data between CPU and GPU.\n",
        "\n",
        "You'll create tensors of different shapes, perform broadcasting operations, and manipulate tensor shapes. Additionally, you'll check for GPU availability and move your data to the GPU if possible.\n",
        "\n",
        "The goal is to deepen your understanding of tensor operations and device management in PyTorch.\n"
      ]
    },
    {
      "cell_type": "code",
      "execution_count": 21,
      "metadata": {
        "id": "6UGeyYHpjuMF"
      },
      "outputs": [
        {
          "name": "stdout",
          "output_type": "stream",
          "text": [
            "Original 2D tensor:\n",
            "tensor([[ 1,  2,  3,  4],\n",
            "        [ 5,  6,  7,  8],\n",
            "        [ 9, 10, 11, 12]])\n",
            "\n",
            "1D tensor:\n",
            "tensor([10, 20, 30, 40])\n",
            "\n",
            "Broadcasted addition result:\n",
            "tensor([[11, 22, 33, 44],\n",
            "        [15, 26, 37, 48],\n",
            "        [19, 30, 41, 52]])\n",
            "\n",
            "Reshaped 3D tensor:\n",
            "tensor([[[ 1,  2],\n",
            "         [ 3,  4]],\n",
            "\n",
            "        [[ 5,  6],\n",
            "         [ 7,  8]],\n",
            "\n",
            "        [[ 9, 10],\n",
            "         [11, 12]]])\n",
            "\n",
            "Viewed 2D tensor:\n",
            "tensor([[ 1,  2,  3,  4],\n",
            "        [ 5,  6,  7,  8],\n",
            "        [ 9, 10, 11, 12]])\n",
            "\n",
            "Tensor device: cpu\n"
          ]
        }
      ],
      "source": [
        "import torch\n",
        "\n",
        "# TODO: Check if CUDA (GPU) is available and set the device accordingly\n",
        "device = torch.device(\"cuda\" if torch.cuda.is_available() else \"cpu\")\n",
        "\n",
        "# Create a 2D tensor of size 3x4\n",
        "tensor_2d = torch.tensor([[1, 2, 3, 4],\n",
        "                          [5, 6, 7, 8],\n",
        "                          [9, 10, 11, 12]])\n",
        "\n",
        "# TODO: Create a 1D tensor of size 4 with values [10, 20, 30, 40]\n",
        "\n",
        "tensor_1d = torch.tensor([10, 20, 30, 40])\n",
        "\n",
        "# TODO: Use broadcasting to add the 1D tensor to each row of the 2D tensor\n",
        "\n",
        "broadcasted_result = tensor_2d + tensor_1d\n",
        "\n",
        "# TODO: Reshape the 2D tensor into a 3D tensor of shape (3, 2, 2)\n",
        "\n",
        "tensor_3d = tensor_2d.reshape(3, 2, 2)\n",
        "\n",
        "# TODO: Use view to change the 3D tensor back to a 2D tensor of shape (3, 4)\n",
        "\n",
        "tensor_2d_back = tensor_3d.view(3, 4)\n",
        "\n",
        "# TODO: Explain the difference between reshape and view in a comment\n",
        "\n",
        "# Reshape creates a new tensor with the desired shape, while view creates a view of the original tensor with the desired shape.\n",
        "\n",
        "# TODO: If CUDA is available, move the 2D tensor to GPU\n",
        "\n",
        "tensor_2d = tensor_2d.to(device)\n",
        "\n",
        "# Print results and tensor information\n",
        "print(\"Original 2D tensor:\")\n",
        "print(tensor_2d)\n",
        "print(\"\\n1D tensor:\")\n",
        "print(tensor_1d)\n",
        "print(\"\\nBroadcasted addition result:\")\n",
        "print(broadcasted_result)\n",
        "print(\"\\nReshaped 3D tensor:\")\n",
        "print(tensor_3d)\n",
        "print(\"\\nViewed 2D tensor:\")\n",
        "print(tensor_2d_back)\n",
        "print(\"\\nTensor device:\", tensor_2d.device)"
      ]
    },
    {
      "cell_type": "markdown",
      "metadata": {
        "id": "Fch2_qwxloHO"
      },
      "source": [
        "In this exercise, you'll work with more advanced PyTorch operations and explore the relationship between PyTorch tensors and NumPy arrays. You'll use assert statements for validation, convert between NumPy and PyTorch formats, and apply various tensor manipulation techniques.\n",
        "\n",
        "The goal is to deepen your understanding of PyTorch's capabilities and how it interacts with NumPy, while also practicing common tensor operations that are crucial for preprocessing and managing data in machine learning workflows."
      ]
    },
    {
      "cell_type": "code",
      "execution_count": 22,
      "metadata": {
        "id": "957QS8KilpXJ"
      },
      "outputs": [
        {
          "name": "stdout",
          "output_type": "stream",
          "text": [
            "Original NumPy array shape: (2, 3, 4)\n",
            "PyTorch tensor shape: torch.Size([2, 3, 4])\n",
            "Transposed tensor shape: torch.Size([2, 4, 3])\n",
            "Flattened tensor shape: torch.Size([2, 12])\n",
            "Squeezed tensor shape: torch.Size([2, 12])\n",
            "Unsqueezed tensor shape: torch.Size([2, 1, 12])\n",
            "Final NumPy array shape: (2, 1, 12)\n"
          ]
        }
      ],
      "source": [
        "import torch\n",
        "import numpy as np\n",
        "\n",
        "# Create a 3D NumPy array\n",
        "np_array = np.random.rand(2, 3, 4)\n",
        "\n",
        "# TODO: Convert the NumPy array to a PyTorch tensor\n",
        "tensor_convert = torch.tensor(np_array)\n",
        "\n",
        "# TODO: Use an assert statement to verify the shape of the tensor\n",
        "\n",
        "assert tensor_convert.shape == torch.Size([2, 3, 4])\n",
        "\n",
        "# TODO: Perform a transpose operation to swap the last two dimensions\n",
        "\n",
        "tensor_transposed = tensor_convert.transpose(1, 2)\n",
        "\n",
        "# TODO: Flatten the tensor to 2D (keeping the first dimension intact)\n",
        "\n",
        "tensor_flattened = tensor_transposed.reshape(2, -1)\n",
        "\n",
        "# TODO: Use squeeze to remove any dimensions of size 1\n",
        "\n",
        "tensor_squeezed = tensor_flattened.squeeze()\n",
        "\n",
        "# TODO: Use unsqueeze to add a new dimension at index 1\n",
        "\n",
        "tensor_unsqueezed = tensor_squeezed.unsqueeze(1)\n",
        "\n",
        "# TODO: Detach the tensor from the computation graph\n",
        "\n",
        "tensor_detached = tensor_unsqueezed.detach()\n",
        "\n",
        "# TODO: Convert the tensor back to a NumPy array\n",
        "\n",
        "np_array_final = tensor_detached.numpy()\n",
        "\n",
        "# Print results at each step\n",
        "print(\"Original NumPy array shape:\", np_array.shape)\n",
        "print(\"PyTorch tensor shape:\", tensor_convert.shape)\n",
        "print(\"Transposed tensor shape:\", tensor_transposed.shape)\n",
        "print(\"Flattened tensor shape:\", tensor_flattened.shape)\n",
        "print(\"Squeezed tensor shape:\", tensor_squeezed.shape)\n",
        "print(\"Unsqueezed tensor shape:\", tensor_unsqueezed.shape)\n",
        "print(\"Final NumPy array shape:\", np_array_final.shape)"
      ]
    },
    {
      "cell_type": "markdown",
      "metadata": {
        "id": "c7O8GLw0mwxe"
      },
      "source": [
        "Object-Oriented Programming (OOP) is a programming paradigm that uses objects to structure code. In Python, everything is an object, and OOP principles are fundamental to the language. Let's explore the basics of OOP by creating a simple class.\n",
        "\n",
        "Key concepts we'll cover:\n",
        "1. Class definition\n",
        "2. Attributes (instance variables)\n",
        "3. Methods (instance methods)\n",
        "4. Constructor (__init__ method)\n",
        "5. Creating objects (instances) of a class\n",
        "6. Accessing and modifying attributes\n",
        "7. Calling methods\n"
      ]
    },
    {
      "cell_type": "code",
      "execution_count": 23,
      "metadata": {
        "id": "b7_HIFBQmxgD"
      },
      "outputs": [
        {
          "name": "stdout",
          "output_type": "stream",
          "text": [
            "My car is a 2020 red Toyota Corolla.\n",
            "The red Toyota Corolla is now going 50 mph.\n",
            "The red Toyota Corolla has slowed down to 30 mph.\n",
            "The Toyota Corolla has been painted blue.\n"
          ]
        }
      ],
      "source": [
        "class Car:\n",
        "    def __init__(self, make, model, year, color):\n",
        "        self.make = make\n",
        "        self.model = model\n",
        "        self.year = year\n",
        "        self.color = color\n",
        "        self.speed = 0\n",
        "\n",
        "    def accelerate(self, speed_increase):\n",
        "        self.speed += speed_increase\n",
        "        print(f\"The {self.color} {self.make} {self.model} is now going {self.speed} mph.\")\n",
        "\n",
        "    def brake(self, speed_decrease):\n",
        "        if self.speed - speed_decrease < 0:\n",
        "            self.speed = 0\n",
        "        else:\n",
        "            self.speed -= speed_decrease\n",
        "        print(f\"The {self.color} {self.make} {self.model} has slowed down to {self.speed} mph.\")\n",
        "\n",
        "    def paint(self, new_color):\n",
        "        self.color = new_color\n",
        "        print(f\"The {self.make} {self.model} has been painted {self.color}.\")\n",
        "\n",
        "# TODO: Create an instance of the Car class\n",
        "\n",
        "car = Car(\"Toyota\", \"Corolla\", 2020, \"red\")\n",
        "\n",
        "# TODO: Print out some attributes of your car\n",
        "\n",
        "print(f\"My car is a {car.year} {car.color} {car.make} {car.model}.\")\n",
        "\n",
        "# TODO: Use the accelerate method to increase the speed of your car\n",
        "\n",
        "car.accelerate(50)\n",
        "\n",
        "# TODO: Use the brake method to decrease the speed of your car\n",
        "\n",
        "car.brake(20)\n",
        "\n",
        "# TODO: Change the color of your car using the paint method\n",
        "car.paint(\"blue\")"
      ]
    },
    {
      "cell_type": "markdown",
      "metadata": {
        "id": "FF-AmVdAnwDe"
      },
      "source": [
        "In this exercise, you'll create a simple neural network using PyTorch's nn.Module and nn.Linear.\n",
        "This will help you understand how PyTorch uses object-oriented programming to define neural network architectures.\n",
        "\n",
        "You'll define a class for a basic feedforward neural network with two linear layers,\n",
        "create an instance of this network, and then use it to make a prediction on some random input data.\n",
        "\n",
        "The goal is to familiarize yourself with the structure of PyTorch models and how they relate to\n",
        "the object-oriented programming concepts you've learned.\n"
      ]
    },
    {
      "cell_type": "code",
      "execution_count": 24,
      "metadata": {
        "id": "ugf9oEptnwle"
      },
      "outputs": [
        {
          "name": "stdout",
          "output_type": "stream",
          "text": [
            "Network structure:\n",
            "SimpleNetwork(\n",
            "  (layer1): Linear(in_features=3, out_features=4, bias=True)\n",
            "  (layer2): Linear(in_features=4, out_features=2, bias=True)\n",
            ")\n",
            "\n",
            "Network prediction:\n",
            "tensor([[ 0.1275, -0.4588]], grad_fn=<AddmmBackward0>)\n"
          ]
        }
      ],
      "source": [
        "import torch\n",
        "import torch.nn as nn\n",
        "\n",
        "class SimpleNetwork(nn.Module):\n",
        "    def __init__(self, input_size, hidden_size, output_size):\n",
        "        super(SimpleNetwork, self).__init__()\n",
        "\n",
        "        # TODO: Define the first linear layer (input_size to hidden_size)\n",
        "        self.layer1 = nn.Linear(input_size, hidden_size)\n",
        "\n",
        "        # TODO: Define the second linear layer (hidden_size to output_size)\n",
        "        self.layer2 = nn.Linear(hidden_size, output_size)\n",
        "\n",
        "    def forward(self, x):\n",
        "        # TODO: Implement the forward pass\n",
        "        # Hint: Pass the input through layer1, then through layer2\n",
        "        x = self.layer1(x)\n",
        "        x = torch.relu(x)\n",
        "        x = self.layer2(x)\n",
        "        return x\n",
        "    \n",
        "# TODO: Create an instance of SimpleNetwork with input_size=3, hidden_size=4, output_size=2\n",
        "model = SimpleNetwork(3, 4, 2)\n",
        "\n",
        "# TODO: Create a random input tensor of shape (1, 3)\n",
        "input_tensor = torch.rand(1, 3)\n",
        "\n",
        "# TODO: Use your network to make a prediction with the random input\n",
        "output = model(input_tensor)\n",
        "\n",
        "# Print the network structure and the output\n",
        "print(\"Network structure:\")\n",
        "print(model)\n",
        "print(\"\\nNetwork prediction:\")\n",
        "print(output)\n"
      ]
    },
    {
      "cell_type": "markdown",
      "metadata": {
        "id": "DmhIK8qLoPLz"
      },
      "source": [
        "Inheritance is a fundamental concept in object-oriented programming that allows a class to inherit attributes and methods from another class. This promotes code reuse and allows for the creation of hierarchical relationships between classes.\n",
        "\n",
        "In this exercise, you'll create a base class and a derived class to understand how inheritance works in Python.\n",
        "\n",
        "Key concepts we'll cover:\n",
        "1. Creating a base class\n",
        "2. Creating a derived class that inherits from the base class\n",
        "3. Overriding methods in the derived class\n",
        "4. Using the super() function to call methods from the base class"
      ]
    },
    {
      "cell_type": "code",
      "execution_count": 25,
      "metadata": {
        "id": "6pDr2ANnoPh4"
      },
      "outputs": [
        {
          "name": "stdout",
          "output_type": "stream",
          "text": [
            "I am Buddy, a Dog\n",
            "Woof!\n",
            "Buddy is fetching the ball!\n"
          ]
        }
      ],
      "source": [
        "class Animal:\n",
        "    def __init__(self, name, species):\n",
        "        self.name = name\n",
        "        self.species = species\n",
        "\n",
        "    def make_sound(self):\n",
        "        print(\"The animal makes a sound\")\n",
        "\n",
        "    def introduce(self):\n",
        "        print(f\"I am {self.name}, a {self.species}\")\n",
        "\n",
        "# TODO: Create a Dog class that inherits from Animal\n",
        "class Dog(Animal):\n",
        "    # TODO: Override the __init__ method to include a 'breed' attribute\n",
        "    def __init__(self, name, species, breed):\n",
        "        super().__init__(name, species)\n",
        "        self.breed = breed\n",
        "\n",
        "    # TODO: Override the make_sound method to print \"Woof!\"\n",
        "    def make_sound(self):\n",
        "        print(\"Woof!\")\n",
        "\n",
        "    # TODO: Create a new method called 'fetch' that prints \"[name] is fetching the ball!\n",
        "    def fetch(self):\n",
        "        print(f\"{self.name} is fetching the ball!\")\n",
        "\n",
        "# TODO: Create an instance of the Dog class\n",
        "dog = Dog(\"Buddy\", \"Dog\", \"Golden Retriever\")\n",
        "\n",
        "# TODO: Call the introduce method for your dog instance\n",
        "dog.introduce()\n",
        "\n",
        "# TODO: Call the make_sound method for your dog instance\n",
        "dog.make_sound()\n",
        "\n",
        "# TODO: Call the fetch method for your dog instance\n",
        "dog.fetch()\n"
      ]
    }
  ],
  "metadata": {
    "colab": {
      "provenance": []
    },
    "kernelspec": {
      "display_name": "Python 3",
      "name": "python3"
    },
    "language_info": {
      "codemirror_mode": {
        "name": "ipython",
        "version": 3
      },
      "file_extension": ".py",
      "mimetype": "text/x-python",
      "name": "python",
      "nbconvert_exporter": "python",
      "pygments_lexer": "ipython3",
      "version": "3.12.1"
    }
  },
  "nbformat": 4,
  "nbformat_minor": 0
}
