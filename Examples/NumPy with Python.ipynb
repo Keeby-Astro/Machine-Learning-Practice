{
 "cells": [
  {
   "cell_type": "markdown",
   "metadata": {},
   "source": [
    "# NumPy with Python\n",
    "\n",
    "Reference Videos:\n",
    "\n",
    "https://www.youtube.com/watch?v=gnKbAAVUzro&list=PLCC34OHNcOtpalASMlX2HHdsLNipyyhbK&index=1\n",
    "\n",
    "https://www.youtube.com/watch?v=PbKOrSottRQ&list=PLCC34OHNcOtpalASMlX2HHdsLNipyyhbK&index=2\n",
    "\n",
    "https://www.youtube.com/watch?v=4LIAHVXnpbY&list=PLCC34OHNcOtpalASMlX2HHdsLNipyyhbK&index=3"
   ]
  },
  {
   "cell_type": "code",
   "execution_count": 1,
   "metadata": {},
   "outputs": [],
   "source": [
    "# Import necessary libraries\n",
    "import numpy as np"
   ]
  },
  {
   "cell_type": "markdown",
   "metadata": {},
   "source": [
    "## NumPy Array Creation and Manipulation\n",
    "\n",
    "- Create a NumPy array using arange() with a step of 0.5, starting from 0 and ending at 5 (exclusive).\n",
    "- Then, reshape it into a 2D array with 2 rows.\n",
    "- Next, create a 3x3 array of zeros and a 2x2 array filled with the value 7.\n",
    "- Finally, convert the Python list [1, 2, 3, 4, 5] to a NumPy array and extract the third element."
   ]
  },
  {
   "cell_type": "code",
   "execution_count": 14,
   "metadata": {},
   "outputs": [
    {
     "name": "stdout",
     "output_type": "stream",
     "text": [
      "1D Array: [0.  0.5 1.  1.5 2.  2.5 3.  3.5 4.  4.5]\n",
      "Reshaped Array (2D): [[0.  0.5 1.  1.5 2. ]\n",
      " [2.5 3.  3.5 4.  4.5]]\n",
      "3x3 Zeros Array: [[0. 0. 0.]\n",
      " [0. 0. 0.]\n",
      " [0. 0. 0.]]\n",
      "2x2 Array filled with 7s: [[7 7]\n",
      " [7 7]]\n",
      "Third element: 3\n"
     ]
    }
   ],
   "source": [
    "# NumPy array using arange()\n",
    "array = np.arange(0, 5, 0.5)\n",
    "print(\"1D Array:\", array)\n",
    "\n",
    "# Reshape into a 2D array\n",
    "reshaped_array = array.reshape(2, -1)\n",
    "print(\"Reshaped Array (2D):\", reshaped_array)\n",
    "\n",
    "# Create a 3x3 array of zeros\n",
    "zeros_array = np.zeros((3, 3))\n",
    "print(\"3x3 Zeros Array:\", zeros_array)\n",
    "\n",
    "# Create a 2x2 array filled with the value 7\n",
    "sevens_array = np.full((2, 2), 7)\n",
    "print(\"2x2 Array filled with 7s:\", sevens_array)\n",
    "\n",
    "# Convert Python list to NumPy array\n",
    "list_to_array = np.array([1, 2, 3, 4, 5])\n",
    "\n",
    "# Extract the third element\n",
    "third_elem = list_to_array[2]\n",
    "print(\"Third element:\", third_elem)"
   ]
  },
  {
   "cell_type": "markdown",
   "metadata": {},
   "source": [
    "## NumPy Array Slicing\n",
    "\n",
    "- Create a 1D NumPy array containing integers from 0 to 19.\n",
    "- Perform the following slicing operations:\n",
    "    1. Extract elements from index 5 to 15 (exclusive)\n",
    "    2. Extract every third element from the entire array\n",
    "    3. Reverse the entire array using slicing\n",
    "- Then, create a 2D array with shape (4, 5) containing integers from 0 to 19.\n",
    "- Perform these slicing operations on the 2D array:\n",
    "    1. Extract the second row\n",
    "    2. Extract the third column\n",
    "    3. Extract a 2x2 sub-array from the top-right corner"
   ]
  },
  {
   "cell_type": "code",
   "execution_count": 20,
   "metadata": {},
   "outputs": [
    {
     "name": "stdout",
     "output_type": "stream",
     "text": [
      "1D Array: [ 0  1  2  3  4  5  6  7  8  9 10 11 12 13 14 15 16 17 18 19]\n",
      "Elements from index 5 to 15: [ 5  6  7  8  9 10 11 12 13 14]\n",
      "Every third element: [ 5  8 11 14]\n",
      "Reversed Array: [14 11  8  5]\n",
      "2D Array:\n",
      " [[ 0  1  2  3  4]\n",
      " [ 5  6  7  8  9]\n",
      " [10 11 12 13 14]\n",
      " [15 16 17 18 19]]\n",
      "Second row: [5 6 7 8 9]\n",
      "Third column: [ 2  7 12 17]\n",
      "2x2 Sub-array from the top-right corner:\n",
      " [[3 4]\n",
      " [8 9]]\n"
     ]
    }
   ],
   "source": [
    "# Create the 1D array\n",
    "array_1D = np.arange(20)\n",
    "print(\"1D Array:\", array_1D)\n",
    "\n",
    "# Elements from index 5 to 15\n",
    "slice_5_to_15 = array_1D[5:15]\n",
    "print(\"Elements from index 5 to 15:\", slice_5_to_15)\n",
    "\n",
    "# Every third element\n",
    "every_third_element = slice_5_to_15[::3]\n",
    "print(\"Every third element:\", every_third_element)\n",
    "\n",
    "# Reverse the array\n",
    "reversed_array = every_third_element[::-1]\n",
    "print(\"Reversed Array:\", reversed_array)\n",
    "\n",
    "# Create a 2D array with shape (4, 5)\n",
    "array_2d = array_1D.reshape(4, 5)\n",
    "print(\"2D Array:\\n\", array_2d)\n",
    "\n",
    "# The second row\n",
    "second_row = array_2d[1, :]\n",
    "print(\"Second row:\", second_row)\n",
    "\n",
    "# The third column\n",
    "third_column = array_2d[:, 2]\n",
    "print(\"Third column:\", third_column)\n",
    "\n",
    "# 2x2 sub-array from the top-right corner\n",
    "sub_array = array_2d[:2, -2:]\n",
    "print(\"2x2 Sub-array from the top-right corner:\\n\", sub_array)"
   ]
  },
  {
   "cell_type": "markdown",
   "metadata": {},
   "source": [
    "## NumPy Mathematical Operations\n",
    "\n",
    "- Create a NumPy array of 10 random integers between 1 and 100.\n",
    "- Perform the following operations:\n",
    "    1. Calculate the square root of each element\n",
    "    2. Find the absolute value of the difference between each element and the mean of the array\n",
    "    3. Calculate e^x for each element x in the array\n",
    "    4. Find the minimum and maximum values in the array\n",
    "    5. Determine the sign (-1, 0, or 1) of the difference between each element and the median of the array\n",
    "    6. Calculate the sine of each element\n",
    "    7. Use np.log1p() to calculate log(1+x) for each element x\n",
    "\n",
    "- For each operation, print the original array and the result. \n",
    "- Briefly explain the purpose of np.log1p() compared to np.log()."
   ]
  },
  {
   "cell_type": "code",
   "execution_count": 48,
   "metadata": {},
   "outputs": [
    {
     "name": "stdout",
     "output_type": "stream",
     "text": [
      "Original Array: [ 1 11 44 59 24 60  3 99 63 36]\n",
      "\n",
      "Original Array: [ 1 11 44 59 24 60  3 99 63 36]\n",
      "Square Roots: [1.         3.31662479 6.63324958 7.68114575 4.89897949 7.74596669\n",
      " 1.73205081 9.94987437 7.93725393 6.        ]\n",
      "\n",
      "Original Array: [ 1 11 44 59 24 60  3 99 63 36]\n",
      "Absolute Difference from Mean: [39. 29.  4. 19. 16. 20. 37. 59. 23.  4.]\n",
      "\n",
      "Original Array: [ 1 11 44 59 24 60  3 99 63 36]\n",
      "e^x for each element: [2.71828183e+00 5.98741417e+04 1.28516001e+19 4.20121040e+25\n",
      " 2.64891221e+10 1.14200739e+26 2.00855369e+01 9.88903032e+42\n",
      " 2.29378316e+27 4.31123155e+15]\n",
      "\n",
      "Original Array: [ 1 11 44 59 24 60  3 99 63 36]\n",
      "Minimum Value: 1\n",
      "Maximum Value: 99\n",
      "\n",
      "Original Array: [ 1 11 44 59 24 60  3 99 63 36]\n",
      "Sign of Difference from Median: [-1. -1.  1.  1. -1.  1. -1.  1.  1. -1.]\n",
      "\n",
      "Original Array: [ 1 11 44 59 24 60  3 99 63 36]\n",
      "Sine of each element: [ 0.84147098 -0.99999021  0.01770193  0.63673801 -0.90557836 -0.30481062\n",
      "  0.14112001 -0.99920683  0.1673557  -0.99177885]\n",
      "\n",
      "Original Array: [ 1 11 44 59 24 60  3 99 63 36]\n",
      "log(1+x) for each element: [0.69314718 2.48490665 3.80666249 4.09434456 3.21887582 4.11087386\n",
      " 1.38629436 4.60517019 4.15888308 3.61091791]\n"
     ]
    }
   ],
   "source": [
    "# Create the array\n",
    "random_array = np.random.randint(1, 101, size=10)\n",
    "print(\"Original Array:\", random_array)\n",
    "print()\n",
    "\n",
    "# Calculate the square root of each element\n",
    "sqrt_array = np.sqrt(random_array)\n",
    "print(\"Original Array:\", random_array)\n",
    "print(\"Square Roots:\", sqrt_array)\n",
    "print()\n",
    "\n",
    "# Find the absolute value of the difference between each element and the mean\n",
    "mean_value = np.mean(random_array)\n",
    "abs_diff_mean = np.abs(random_array - mean_value)\n",
    "print(\"Original Array:\", random_array)\n",
    "print(\"Absolute Difference from Mean:\", abs_diff_mean)\n",
    "print()\n",
    "\n",
    "# Calculate e^x\n",
    "exp_array = np.exp(random_array)\n",
    "print(\"Original Array:\", random_array)\n",
    "print(\"e^x for each element:\", exp_array)\n",
    "print()\n",
    "\n",
    "# Find the minimum and maximum values\n",
    "min_value = np.min(random_array)\n",
    "max_value = np.max(random_array)\n",
    "print(\"Original Array:\", random_array)\n",
    "print(\"Minimum Value:\", min_value)\n",
    "print(\"Maximum Value:\", max_value)\n",
    "print()\n",
    "\n",
    "# Determine the sign (-1, 0, or 1) of the difference between each element and the median\n",
    "median_value = np.median(random_array)\n",
    "sign_diff_median = np.sign(random_array - median_value)\n",
    "print(\"Original Array:\", random_array)\n",
    "print(\"Sign of Difference from Median:\", sign_diff_median)\n",
    "print()\n",
    "\n",
    "# Calculate the sine\n",
    "sine_array = np.sin(random_array)\n",
    "print(\"Original Array:\", random_array)\n",
    "print(\"Sine of each element:\", sine_array)\n",
    "print()\n",
    "\n",
    "# Use np.log1p() to calculate log(1+x)\n",
    "log1p_array = np.log1p(random_array)\n",
    "print(\"Original Array:\", random_array)\n",
    "print(\"log(1+x) for each element:\", log1p_array)\n",
    "\n",
    "# The purpose of np.log1p() versus np.log() is the numerical stability when x nears zero.\n",
    "# For small values of x, log(1+x) is more accurate using np.log1p() than by calculating directly,\n",
    "# due to how floting-point arithmetic is handled, avoiding loss of precision."
   ]
  }
 ],
 "metadata": {
  "kernelspec": {
   "display_name": "Python 3",
   "language": "python",
   "name": "python3"
  },
  "language_info": {
   "codemirror_mode": {
    "name": "ipython",
    "version": 3
   },
   "file_extension": ".py",
   "mimetype": "text/x-python",
   "name": "python",
   "nbconvert_exporter": "python",
   "pygments_lexer": "ipython3",
   "version": "3.12.2"
  }
 },
 "nbformat": 4,
 "nbformat_minor": 4
}
