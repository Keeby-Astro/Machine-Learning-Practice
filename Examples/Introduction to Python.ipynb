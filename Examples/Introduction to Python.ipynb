{
 "cells": [
  {
   "cell_type": "markdown",
   "metadata": {},
   "source": [
    "# Introduction to Python\n",
    "\n",
    "Reference Video:\n",
    "https://www.youtube.com/watch?v=kqtD5dpn9C8&t=2546s"
   ]
  },
  {
   "cell_type": "markdown",
   "metadata": {},
   "source": [
    "## Variables and Type Conversion \n",
    "Create a variable `age` and assign it your age as a string. Then convert it to an integer and print the result."
   ]
  },
  {
   "cell_type": "code",
   "execution_count": 15,
   "metadata": {},
   "outputs": [
    {
     "name": "stdout",
     "output_type": "stream",
     "text": [
      "23\n"
     ]
    }
   ],
   "source": [
    "# Assign variable age as a string\n",
    "age = \"23\"\n",
    "\n",
    "# Convert age string to an integer\n",
    "age = int(age)\n",
    "\n",
    "# Print the result\n",
    "print(age)"
   ]
  },
  {
   "cell_type": "markdown",
   "metadata": {},
   "source": [
    "## Receiving Input and Strings \n",
    "Ask the user to input their full name. Print the length of their name and the name in all uppercase letters."
   ]
  },
  {
   "cell_type": "code",
   "execution_count": 16,
   "metadata": {},
   "outputs": [
    {
     "name": "stdout",
     "output_type": "stream",
     "text": [
      "Length of your name: 8\n",
      "Your name in all uppercase: JOE MAMA\n"
     ]
    }
   ],
   "source": [
    "# Ask the user to input their full name\n",
    "name = input(\"Please enter your full name: \")\n",
    "\n",
    "# Print the length of their name\n",
    "print(\"Length of your name:\", len(name))\n",
    "\n",
    "# Print the name in all uppercase letters\n",
    "print(\"Your name in all uppercase:\", name.upper())"
   ]
  },
  {
   "cell_type": "markdown",
   "metadata": {},
   "source": [
    "## Arithmetic Operators and Operator Precedence \n",
    "Calculate the result of the following expression: `10 + 20 * 3 - 40 / 2`\n",
    "Explain the order of operations."
   ]
  },
  {
   "cell_type": "code",
   "execution_count": 17,
   "metadata": {},
   "outputs": [
    {
     "name": "stdout",
     "output_type": "stream",
     "text": [
      "50.0\n"
     ]
    }
   ],
   "source": [
    "'''\n",
    "PEMDAS: [Parentheses, Exponents, Multiplication and Division (from left to right),\n",
    "       Addition and Subtraction (from left to right)]\n",
    "1. Multiplication: 20 * 3 = 60\n",
    "2. Division: 40 / 2 = 20\n",
    "3. Addition and Subtraction (left to right):\n",
    "    10 + 60 = 70\n",
    "    70 - 20 = 50\n",
    "'''\n",
    "result = 10 + 20 * 3 - 40 / 2\n",
    "print(result)"
   ]
  },
  {
   "cell_type": "markdown",
   "metadata": {},
   "source": [
    "## Comparison and Logical Operators \n",
    "Write a program that asks the user for two numbers. Use comparison and logical operators to check if the first number is greater than the second AND if both numbers are positive."
   ]
  },
  {
   "cell_type": "code",
   "execution_count": 18,
   "metadata": {},
   "outputs": [
    {
     "name": "stdout",
     "output_type": "stream",
     "text": [
      "Either the first number is not greater than the second, or one or both numbers are not positive.\n"
     ]
    }
   ],
   "source": [
    "# Ask the user for two numbers\n",
    "num1 = float(input(\"Enter the first number: \"))\n",
    "num2 = float(input(\"Enter the second number: \"))\n",
    "\n",
    "# Check if the first number is greater than the second AND if both numbers are positive\n",
    "if num1 > num2 and num1 > 0 and num2 > 0:\n",
    "    print(\"The first number is greater than the second and both numbers are positive.\")\n",
    "else:\n",
    "    print(\"Either the first number is not greater than the second, or one or both numbers are not positive.\")\n"
   ]
  },
  {
   "cell_type": "markdown",
   "metadata": {},
   "source": [
    "## If Statements \n",
    "Write a program that asks the user for their age. If they are under 18, print \"You are a minor.\" If they are 18 or older but under 65, print \"You are an adult.\" If they are 65 or older, print \"You are a senior citizen.\""
   ]
  },
  {
   "cell_type": "code",
   "execution_count": 19,
   "metadata": {},
   "outputs": [
    {
     "name": "stdout",
     "output_type": "stream",
     "text": [
      "You are an adult\n"
     ]
    }
   ],
   "source": [
    "age = int(input(\"What is your age?: \"))\n",
    "\n",
    "if age < 18:\n",
    "    print(\"You are a minor\")\n",
    "elif age >= 18 | age < 65:\n",
    "    print(\"You are an adult\")\n",
    "else:\n",
    "    print(\"You are a senior citzen\")"
   ]
  },
  {
   "cell_type": "markdown",
   "metadata": {},
   "source": [
    "## While Loops \n",
    "Write a program that generates a random number between 1 and 10. Ask the user to guess the number. Use a while loop to keep asking until they guess correctly."
   ]
  },
  {
   "cell_type": "code",
   "execution_count": 20,
   "metadata": {},
   "outputs": [
    {
     "name": "stdout",
     "output_type": "stream",
     "text": [
      "Too high, try again!\n",
      "Too high, try again!\n",
      "Too high, try again!\n",
      "Too low, try again!\n",
      "You guessed the correct number\n"
     ]
    }
   ],
   "source": [
    "import random\n",
    "\n",
    "# Generate a random number between 1 and 10\n",
    "rand_num = random.randint(1, 10)\n",
    "\n",
    "# Initialize the user's guess to None\n",
    "user_guess = None\n",
    "\n",
    "# Loop to keep asking unitl guess is correct\n",
    "while user_guess != rand_num:\n",
    "    user_guess = int(input(\"Guess a number between 1 and 10: \"))\n",
    "\n",
    "    if user_guess < rand_num:\n",
    "        print(\"Too low, try again!\")\n",
    "    elif user_guess > rand_num:\n",
    "        print(\"Too high, try again!\")\n",
    "    else:\n",
    "        print(\"You guessed the correct number\")"
   ]
  },
  {
   "cell_type": "markdown",
   "metadata": {},
   "source": [
    "## Lists and List Methods \n",
    "Create a list of your favorite fruits. Add a new fruit to the end of the list, remove the first fruit, and sort the list alphabetically. Print the final list."
   ]
  },
  {
   "cell_type": "code",
   "execution_count": 21,
   "metadata": {},
   "outputs": [
    {
     "name": "stdout",
     "output_type": "stream",
     "text": [
      "Final list of favorite fruits: ['Banana', 'Cherry', 'Mango', 'Orange']\n"
     ]
    }
   ],
   "source": [
    "# Create a list of your favorite fruits\n",
    "favorite_fruits = [\"Apple\", \"Banana\", \"Cherry\", \"Mango\"]\n",
    "\n",
    "# Add a new fruit to the end of the list\n",
    "favorite_fruits.append(\"Orange\")\n",
    "\n",
    "# Remove the first fruit from the list\n",
    "favorite_fruits.pop(0)\n",
    "\n",
    "# Sort the list alphabetically\n",
    "favorite_fruits.sort()\n",
    "\n",
    "# Print the final list\n",
    "print(\"Final list of favorite fruits:\", favorite_fruits)"
   ]
  },
  {
   "cell_type": "markdown",
   "metadata": {},
   "source": [
    "## For Loops and range() Function \n",
    "Use a for loop and the range() function to print the first 10 square numbers (1, 4, 9, 16, ..., 100)."
   ]
  },
  {
   "cell_type": "code",
   "execution_count": 22,
   "metadata": {},
   "outputs": [
    {
     "name": "stdout",
     "output_type": "stream",
     "text": [
      "1\n",
      "4\n",
      "9\n",
      "16\n",
      "25\n",
      "36\n",
      "49\n",
      "64\n",
      "81\n",
      "100\n"
     ]
    }
   ],
   "source": [
    "\n",
    "# For loop with range() function of 1, 11 for numbers from 1 to 10\n",
    "for i in range(1, 11):\n",
    "    # Calculate the square of the current number\n",
    "    square = i * i\n",
    "    print(square)"
   ]
  },
  {
   "cell_type": "markdown",
   "metadata": {},
   "source": [
    "## Tuples \n",
    "Create a tuple containing the names of the days of the week. Print the weekend days (Saturday and Sunday) using indexing."
   ]
  },
  {
   "cell_type": "code",
   "execution_count": 23,
   "metadata": {},
   "outputs": [
    {
     "name": "stdout",
     "output_type": "stream",
     "text": [
      "Weekend days:\n",
      "Saturday Sunday\n"
     ]
    }
   ],
   "source": [
    "# Tuple containing the names of the days of the week\n",
    "days_of_week = (\"Monday\", \"Tuesday\", \"Wednesday\", \"Thursday\", \"Friday\", \"Saturday\", \"Sunday\")\n",
    "\n",
    "# Print the weekend days using indexing\n",
    "print(\"Weekend days:\")\n",
    "print(days_of_week[5], days_of_week[6])"
   ]
  },
  {
   "cell_type": "markdown",
   "metadata": {},
   "source": [
    "## Combining Concepts \n",
    "Write a program that creates a list of 5 random numbers between 1 and 100. Then, use a for loop to iterate through the list and print whether each number is even or odd."
   ]
  },
  {
   "cell_type": "code",
   "execution_count": 24,
   "metadata": {},
   "outputs": [
    {
     "name": "stdout",
     "output_type": "stream",
     "text": [
      "89 is odd\n",
      "46 is even\n",
      "90 is even\n",
      "6 is even\n",
      "45 is odd\n"
     ]
    }
   ],
   "source": [
    "import random\n",
    "\n",
    "# Create a list of 5 random numbers between 1 and 100\n",
    "rand_nums = [random.randint(1, 100) for _ in range(5)]\n",
    "\n",
    "# For loop to iterate through the list\n",
    "for number in rand_nums:\n",
    "    # Print whether each number is even or odd\n",
    "    if number % 2 == 0:\n",
    "        print(f\"{number} is even\")\n",
    "    else:\n",
    "        print(f\"{number} is odd\")"
   ]
  }
 ],
 "metadata": {
  "kernelspec": {
   "display_name": ".venv",
   "language": "python",
   "name": "python3"
  },
  "language_info": {
   "codemirror_mode": {
    "name": "ipython",
    "version": 3
   },
   "file_extension": ".py",
   "mimetype": "text/x-python",
   "name": "python",
   "nbconvert_exporter": "python",
   "pygments_lexer": "ipython3",
   "version": "3.12.7"
  }
 },
 "nbformat": 4,
 "nbformat_minor": 4
}
