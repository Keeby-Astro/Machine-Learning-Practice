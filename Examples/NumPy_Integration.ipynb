{
 "cells": [
  {
   "cell_type": "markdown",
   "metadata": {},
   "source": [
    "# HW1_Part2_NumPy \n",
    "Please watch the following videos and then answer the questions\n",
    "\n",
    "https://www.youtube.com/watch?v=gnKbAAVUzro&list=PLCC34OHNcOtpalASMlX2HHdsLNipyyhbK&index=1\n",
    "\n",
    "https://www.youtube.com/watch?v=PbKOrSottRQ&list=PLCC34OHNcOtpalASMlX2HHdsLNipyyhbK&index=2\n",
    "\n",
    "https://www.youtube.com/watch?v=4LIAHVXnpbY&list=PLCC34OHNcOtpalASMlX2HHdsLNipyyhbK&index=3"
   ]
  },
  {
   "cell_type": "markdown",
   "metadata": {},
   "source": [
    "## Question 1: NumPy Array Creation and Manipulation"
   ]
  },
  {
   "cell_type": "code",
   "execution_count": null,
   "metadata": {},
   "outputs": [],
   "source": [
    "# Create a NumPy array using arange() with a step of 0.5, starting from 0 and ending at 5 (exclusive).\n",
    "# Then, reshape it into a 2D array with 2 rows.\n",
    "# Next, create a 3x3 array of zeros and a 2x2 array filled with the value 7.\n",
    "# Finally, convert the Python list [1, 2, 3, 4, 5] to a NumPy array and extract the third element.\n",
    "\n",
    "# Your code here"
   ]
  },
  {
   "cell_type": "markdown",
   "metadata": {},
   "source": [
    "## Question 2: NumPy Array Slicing"
   ]
  },
  {
   "cell_type": "code",
   "execution_count": null,
   "metadata": {},
   "outputs": [],
   "source": [
    "# Create a 1D NumPy array containing integers from 0 to 19.\n",
    "# Perform the following slicing operations:\n",
    "# 1. Extract elements from index 5 to 15 (exclusive)\n",
    "# 2. Extract every third element from the entire array\n",
    "# 3. Reverse the entire array using slicing\n",
    "# Then, create a 2D array with shape (4, 5) containing integers from 0 to 19.\n",
    "# Perform these slicing operations on the 2D array:\n",
    "# 1. Extract the second row\n",
    "# 2. Extract the third column\n",
    "# 3. Extract a 2x2 sub-array from the top-right corner\n",
    "\n",
    "# Your code here"
   ]
  },
  {
   "cell_type": "markdown",
   "metadata": {},
   "source": [
    "## Question 3: NumPy Mathematical Operations"
   ]
  },
  {
   "cell_type": "code",
   "execution_count": null,
   "metadata": {},
   "outputs": [],
   "source": [
    "# Create a NumPy array of 10 random integers between 1 and 100.\n",
    "# Perform the following operations:\n",
    "# 1. Calculate the square root of each element\n",
    "# 2. Find the absolute value of the difference between each element and the mean of the array\n",
    "# 3. Calculate e^x for each element x in the array\n",
    "# 4. Find the minimum and maximum values in the array\n",
    "# 5. Determine the sign (-1, 0, or 1) of the difference between each element and the median of the array\n",
    "# 6. Calculate the sine of each element\n",
    "# 7. Use np.log1p() to calculate log(1+x) for each element x\n",
    "#\n",
    "# For each operation, print the original array and the result.\n",
    "# Briefly explain the purpose of np.log1p() compared to np.log().\n",
    "\n",
    "# Your code here"
   ]
  }
 ],
 "metadata": {
  "kernelspec": {
   "display_name": "Python 3",
   "language": "python",
   "name": "python3"
  },
  "language_info": {
   "codemirror_mode": {
    "name": "ipython",
    "version": 3
   },
   "file_extension": ".py",
   "mimetype": "text/x-python",
   "name": "python",
   "nbconvert_exporter": "python",
   "pygments_lexer": "ipython3",
   "version": "3.8.8"
  }
 },
 "nbformat": 4,
 "nbformat_minor": 4
}
