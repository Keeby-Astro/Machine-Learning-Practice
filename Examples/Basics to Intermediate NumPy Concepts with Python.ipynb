{
 "cells": [
  {
   "cell_type": "markdown",
   "metadata": {},
   "source": [
    "# Basics to Intermediate NumPy Concepts with Python\n",
    "\n",
    "Reference Video: \n",
    "https://www.youtube.com/watch?v=yAjzj2eShXU&list=PLCC34OHNcOtpalASMlX2HHdsLNipyyhbK&index=5"
   ]
  },
  {
   "cell_type": "markdown",
   "metadata": {},
   "source": [
    "## Numpy Array Operations Basics\n",
    "\n",
    "You are working on a project that involves analyzing temperature data for a week. Your task is to demonstrate your understanding of Numpy array operations by performing the following steps:\n",
    "1. Create a Numpy array representing daily average temperatures for a week (7 days).\n",
    "2. Create a view of this array that shows the temperatures in Fahrenheit (original is in Celsius).\n",
    "3. Modify the original array to reflect a temperature increase for a specific day.\n",
    "4. Create a copy of the original array.\n",
    "5. Make a change to the original array again.\n",
    "6. Make a change to the copied array.\n",
    "\n",
    "After each step, print the relevant arrays to show how they change. Explain the differences between views and copies in Numpy arrays based on your observations."
   ]
  },
  {
   "cell_type": "code",
   "execution_count": 3,
   "metadata": {},
   "outputs": [
    {
     "name": "stdout",
     "output_type": "stream",
     "text": [
      "Original temperatures in Celsius:\n",
      "[20 21 22 23 24 25 26]\n",
      "Temperatures in Fahrenheit:\n",
      "[68.  69.8 71.6 73.4 75.2 77.  78.8]\n",
      "Updated temperatures in Celsius:\n",
      "[20 21 22 26 24 25 26]\n",
      "Copy of temperatures:\n",
      "[20 21 22 26 24 25 26]\n",
      "Updated temperatures in Celsius:\n",
      "[20 21 22 26 24 27 26]\n",
      "Updated copy of temperatures:\n",
      "[20 22 22 26 24 25 26]\n"
     ]
    }
   ],
   "source": [
    "# Import necessary libraries\n",
    "import numpy as np\n",
    "\n",
    "# Create a Numpy array representing daily average temperatures for a week (7 days).\n",
    "temperatures = np.array([20, 21, 22, 23, 24, 25, 26])\n",
    "print(\"Original temperatures in Celsius:\")\n",
    "print(temperatures)\n",
    "\n",
    "# Create a view of this array that shows the temperatures in Fahrenheit (original is in Celsius).\n",
    "temperatures_fahrenheit = temperatures * 9 / 5 + 32\n",
    "print(\"Temperatures in Fahrenheit:\")\n",
    "print(temperatures_fahrenheit)\n",
    "\n",
    "# Modify the original array to reflect a temperature increase for a specific day.\n",
    "temperatures[3] += 3\n",
    "print(\"Updated temperatures in Celsius:\")\n",
    "print(temperatures)\n",
    "\n",
    "# Create a copy of the original array.\n",
    "temperatures_copy = temperatures.copy()\n",
    "print(\"Copy of temperatures:\")\n",
    "print(temperatures_copy)\n",
    "\n",
    "# Make a change to the original array again.\n",
    "temperatures[5] += 2\n",
    "print(\"Updated temperatures in Celsius:\")\n",
    "print(temperatures)\n",
    "\n",
    "# Make a change to the copied array.\n",
    "temperatures_copy[1] += 1\n",
    "print(\"Updated copy of temperatures:\")\n",
    "print(temperatures_copy)\n",
    "\n",
    "# Explanation:\n",
    "# A view is a way of looking at the same data in a different way, without creating a new array.\n",
    "# A copy is a new array that is created with the same data as the original array.\n",
    "# When you modify a view, the original array is also modified.\n",
    "# When you modify a copy, the original array is not modified.\n",
    "# In this example, when we modified the original array, the view also changed.\n",
    "# However, when we modified the copied array, the original array remained the same.\n",
    "# This demonstrates the difference between views and copies in Numpy arrays."
   ]
  },
  {
   "cell_type": "markdown",
   "metadata": {},
   "source": [
    "## NumPy Array Operations\n",
    "\n",
    "You are given a list of daily temperature readings for a month. Your task is to perform the following operations using NumPy:\n",
    "1. Create a 1-D NumPy array from the temperature readings and print its shape.\n",
    "2. Reshape the 1-D array into a 2-D array with 4 rows, representing weeks. Print the new shape.\n",
    "3. Calculate and print the average temperature for each week.\n",
    "4. Reshape the 2-D array into a 3-D array with dimensions (2, 2, 7), representing two bi-weekly periods. Print the new shape.\n",
    "5. Calculate and print the maximum temperature for each bi-weekly period.\n",
    "6. Flatten the 3-D array back to 1-D and print the result."
   ]
  },
  {
   "cell_type": "code",
   "execution_count": 4,
   "metadata": {},
   "outputs": [
    {
     "name": "stdout",
     "output_type": "stream",
     "text": [
      "1-D array shape:\n",
      "(28,)\n",
      "2-D array shape:\n",
      "(4, 7)\n",
      "Average temperature for each week:\n",
      "[25.28571429 24.57142857 25.28571429 26.42857143]\n",
      "3-D array shape:\n",
      "(2, 2, 7)\n",
      "Maximum temperature for each bi-weekly period:\n",
      "[28 30]\n",
      "Flattened 1-D array:\n",
      "[25 28 23 24 27 26 24 22 21 23 25 26 28 27 26 24 23 24 25 27 28 29 30 28\n",
      " 26 25 24 23]\n"
     ]
    }
   ],
   "source": [
    "# Use the following temperature data:\n",
    "temperatures = [\n",
    "    25, 28, 23, 24, 27, 26, 24,  # Week 1\n",
    "    22, 21, 23, 25, 26, 28, 27,  # Week 2\n",
    "    26, 24, 23, 24, 25, 27, 28,  # Week 3\n",
    "    29, 30, 28, 26, 25, 24, 23   # Week 4\n",
    "]\n",
    "\n",
    "# Import necessary libraries\n",
    "import numpy as np\n",
    "\n",
    "# Create a 1-D NumPy array from the temperature readings and print its shape.\n",
    "temperature_array = np.array(temperatures)\n",
    "print(\"1-D array shape:\")\n",
    "print(temperature_array.shape)\n",
    "\n",
    "# Reshape the 1-D array into a 2-D array with 4 rows, representing weeks. Print the new shape.\n",
    "weekly_temperatures = temperature_array.reshape(4, 7)\n",
    "print(\"2-D array shape:\")\n",
    "print(weekly_temperatures.shape)\n",
    "\n",
    "# Calculate and print the average temperature for each week.\n",
    "average_temperatures = np.mean(weekly_temperatures, axis=1)\n",
    "print(\"Average temperature for each week:\")\n",
    "print(average_temperatures)\n",
    "\n",
    "# Reshape the 2-D array into a 3-D array with dimensions (2, 2, 7), representing two bi-weekly periods. Print the new shape.\n",
    "biweekly_temperatures = weekly_temperatures.reshape(2, 2, 7)\n",
    "print(\"3-D array shape:\")\n",
    "print(biweekly_temperatures.shape)\n",
    "\n",
    "# Calculate and print the maximum temperature for each bi-weekly period.\n",
    "max_temperatures = np.max(biweekly_temperatures, axis=(1, 2))\n",
    "print(\"Maximum temperature for each bi-weekly period:\")\n",
    "print(max_temperatures)\n",
    "\n",
    "# Flatten the 3-D array back to 1-D and print the result.\n",
    "flattened_temperatures = biweekly_temperatures.flatten()\n",
    "print(\"Flattened 1-D array:\")\n",
    "print(flattened_temperatures)"
   ]
  },
  {
   "cell_type": "markdown",
   "metadata": {},
   "source": [
    "## NumPy Array Iteration\n",
    "\n",
    "Given the following NumPy arrays, write functions to:\n",
    "1. Calculate the sum of squares for a 1-D array\n",
    "2. Find the maximum element in each row of a 2-D array\n",
    "3. Calculate the product of elements along the first axis of a 3-D array\n",
    "4. Use nditer() to iterate through a 3-D array and count elements greater than the mean\n",
    "\n",
    "Use different iteration methods for each task:\n",
    "- Standard iteration for 1-D array\n",
    "- Nested loops for 2-D array\n",
    "- Multiple nested loops for 3-D array\n",
    "- nditer() for the last task"
   ]
  },
  {
   "cell_type": "code",
   "execution_count": 5,
   "metadata": {},
   "outputs": [
    {
     "name": "stdout",
     "output_type": "stream",
     "text": [
      "Sum of squares for 1-D array:\n",
      "55\n",
      "Maximum element in each row of 2-D array:\n",
      "[3, 6, 9]\n",
      "Product of elements along the first axis of 3-D array:\n",
      "479001600\n",
      "Number of elements greater than the mean in 3-D array:\n",
      "6\n"
     ]
    }
   ],
   "source": [
    "# Import necessary libraries\n",
    "import numpy as np\n",
    "\n",
    "# Arrays:\n",
    "arr_1d = np.array([1, 2, 3, 4, 5])\n",
    "arr_2d = np.array([[1, 2, 3], [4, 5, 6], [7, 8, 9]])\n",
    "arr_3d = np.array([[[1, 2], [3, 4]], [[5, 6], [7, 8]], [[9, 10], [11, 12]]])\n",
    "\n",
    "# Calculate the sum of squares for a 1-D array\n",
    "def sum_of_squares(arr):\n",
    "    sum_squares = 0\n",
    "    for num in arr:\n",
    "        sum_squares += num ** 2\n",
    "    return sum_squares\n",
    "\n",
    "print(\"Sum of squares for 1-D array:\")\n",
    "print(sum_of_squares(arr_1d))\n",
    "\n",
    "# Find the maximum element in each row of a 2-D array\n",
    "def max_in_each_row(arr):\n",
    "    max_elements = []\n",
    "    for row in arr:\n",
    "        max_elements.append(np.max(row))\n",
    "    return max_elements\n",
    "\n",
    "print(\"Maximum element in each row of 2-D array:\")\n",
    "print(max_in_each_row(arr_2d))\n",
    "\n",
    "# Calculate the product of elements along the first axis of a 3-D array\n",
    "def product_along_first_axis(arr):\n",
    "    product = 1\n",
    "    for matrix in arr:\n",
    "        product *= np.prod(matrix)\n",
    "    return product\n",
    "\n",
    "print(\"Product of elements along the first axis of 3-D array:\")\n",
    "print(product_along_first_axis(arr_3d))\n",
    "\n",
    "# Use nditer() to iterate through a 3-D array and count elements greater than the mean\n",
    "def count_elements_greater_than_mean(arr):\n",
    "    count = 0\n",
    "    mean = np.mean(arr)\n",
    "    for element in np.nditer(arr):\n",
    "        if element > mean:\n",
    "            count += 1\n",
    "    return count\n",
    "\n",
    "print(\"Number of elements greater than the mean in 3-D array:\")\n",
    "print(count_elements_greater_than_mean(arr_3d))"
   ]
  }
 ],
 "metadata": {
  "kernelspec": {
   "display_name": "condaIman",
   "language": "python",
   "name": "python3"
  },
  "language_info": {
   "codemirror_mode": {
    "name": "ipython",
    "version": 3
   },
   "file_extension": ".py",
   "mimetype": "text/x-python",
   "name": "python",
   "nbconvert_exporter": "python",
   "pygments_lexer": "ipython3",
   "version": "3.12.2"
  }
 },
 "nbformat": 4,
 "nbformat_minor": 2
}
