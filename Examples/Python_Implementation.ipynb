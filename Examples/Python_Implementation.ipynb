{
 "cells": [
  {
   "cell_type": "markdown",
   "metadata": {},
   "source": [
    "# Homework 2: Part 1\n",
    "Name: Caden Matthews\n",
    "Date: 09/02/2024"
   ]
  },
  {
   "cell_type": "code",
   "execution_count": 1,
   "metadata": {},
   "outputs": [
    {
     "name": "stdout",
     "output_type": "stream",
     "text": [
      "10.5\n",
      "<class 'float'>\n",
      "6\n",
      "<class 'int'>\n",
      "Hello5\n",
      "<class 'str'>\n",
      "10.5\n",
      "<class 'float'>\n",
      "6.5\n",
      "<class 'float'>\n",
      "Hello5.5\n",
      "<class 'str'>\n"
     ]
    }
   ],
   "source": [
    "# Python for Machine Learning: Basic to Intermediate Concepts Homework\n",
    "\n",
    "# This homework is designed to test your understanding of fundamental Python concepts\n",
    "# essential for machine learning. Complete all questions to the best of your ability.\n",
    "# Estimated time: 90 minutes\n",
    "\n",
    "# 1. Variables and Data Types\n",
    "# Question:\n",
    "# Create variables of different data types (integer, float, string, boolean) and\n",
    "# perform operations that demonstrate type conversion. Print the results and their types.\n",
    "\n",
    "# Your code here:\n",
    "\n",
    "int = 5\n",
    "float = 5.5\n",
    "string = \"Hello\"\n",
    "boolean = True\n",
    "\n",
    "print(int + float)\n",
    "print(type(int + float))\n",
    "\n",
    "print(int + boolean)\n",
    "print(type(int + boolean))\n",
    "\n",
    "print(string + str(int))\n",
    "print(type(string + str(int)))\n",
    "\n",
    "print(float + int)\n",
    "print(type(float + int))\n",
    "\n",
    "print(float + boolean)\n",
    "print(type(float + boolean))\n",
    "\n",
    "print(string + str(float))\n",
    "print(type(string + str(float)))"
   ]
  },
  {
   "cell_type": "code",
   "execution_count": 2,
   "metadata": {},
   "outputs": [
    {
     "name": "stdout",
     "output_type": "stream",
     "text": [
      "Even Numbers (For Loop):      [2, 4, 6, 8, 10]\n",
      "Odd Numbers (For Loop):       [1, 3, 5, 7, 9]\n",
      "Even Numbers (Comprehension): [2, 4, 6, 8, 10]\n",
      "Odd Numbers (Comprehension):  [1, 3, 5, 7, 9]\n"
     ]
    }
   ],
   "source": [
    "\n",
    "# 2. Control Structures (if/else, loops)\n",
    "# Question:\n",
    "# Write a function that takes a list of numbers and returns two lists:\n",
    "# one containing all the even numbers and another containing all the odd numbers.\n",
    "# Use both a for loop and list comprehensions to solve this problem.\n",
    "\n",
    "# Your code here:\n",
    "\n",
    "def even_odd_list(numbers):\n",
    "    even = []\n",
    "    odd = []\n",
    "    for num in numbers:\n",
    "        if num % 2 == 0:\n",
    "            even.append(num)\n",
    "        else:\n",
    "            odd.append(num)\n",
    "    return even, odd\n",
    "\n",
    "numbers = [1, 2, 3, 4, 5, 6, 7, 8, 9, 10]\n",
    "even, odd = even_odd_list(numbers)\n",
    "print(\"Even Numbers (For Loop):     \", even)\n",
    "print(\"Odd Numbers (For Loop):      \", odd)\n",
    "\n",
    "def even_odd_list_comprehension(numbers):\n",
    "    even = [num for num in numbers if num % 2 == 0]\n",
    "    odd = [num for num in numbers if num % 2 != 0]\n",
    "    return even, odd\n",
    "\n",
    "numbers = [1, 2, 3, 4, 5, 6, 7, 8, 9, 10]\n",
    "even, odd = even_odd_list_comprehension(numbers)\n",
    "print(\"Even Numbers (Comprehension):\", even)\n",
    "print(\"Odd Numbers (Comprehension): \",odd)"
   ]
  },
  {
   "cell_type": "code",
   "execution_count": 3,
   "metadata": {},
   "outputs": [
    {
     "name": "stdout",
     "output_type": "stream",
     "text": [
      "Mean: 5.5\n",
      "Median: 5.5\n",
      "Mode: 1\n"
     ]
    }
   ],
   "source": [
    "from statistics import mean, median, mode\n",
    "# Statistics module is the real module used to calculate mean, median, and mode of a list of numbers\n",
    "# NumPy is another module that can be used to calculate mean, median, and mode of a list of numbers\n",
    "\n",
    "# 3. Functions and Modules\n",
    "# Question:\n",
    "# Create a module named 'stats_functions.py' with functions to calculate the mean,\n",
    "# median, and mode of a list of numbers. Then, in this notebook, import the module\n",
    "# and use its functions to analyze a given dataset.\n",
    "\n",
    "# The module 'stats_functions.py' does not exist, we we use statistics module\n",
    "# to calculate mean, median, and mode of a list of numbers instead.\n",
    "\n",
    "# Your code here:\n",
    "\n",
    "dataset = [1, 2, 3, 4, 5, 6, 7, 8, 9, 10]\n",
    "\n",
    "mean_value = mean(dataset)\n",
    "median_value = median(dataset)\n",
    "mode_value = mode(dataset)\n",
    "\n",
    "print(\"Mean:\", mean_value)\n",
    "print(\"Median:\", median_value)\n",
    "print(\"Mode:\", mode_value)"
   ]
  },
  {
   "cell_type": "code",
   "execution_count": 4,
   "metadata": {},
   "outputs": [
    {
     "name": "stdout",
     "output_type": "stream",
     "text": [
      "{'Alice': 90, 'Bob': 85, 'Charlie': 95, 'David': 80}\n"
     ]
    }
   ],
   "source": [
    "# 4. Lists, Tuples, and Dictionaries\n",
    "# Question:\n",
    "# Create a function that takes a list of tuples, where each tuple contains a student's\n",
    "# name and their score. The function should return a dictionary where the keys are the\n",
    "# student names and the values are their corresponding scores.\n",
    "\n",
    "# Your code here:\n",
    "\n",
    "def tuple_to_dict(students):\n",
    "    return {student[0]: student[1] for student in students}\n",
    "\n",
    "students = [(\"Alice\", 90), (\"Bob\", 85), (\"Charlie\", 95), (\"David\", 80)]\n",
    "student_dict = tuple_to_dict(students)\n",
    "print(student_dict)"
   ]
  },
  {
   "cell_type": "code",
   "execution_count": 5,
   "metadata": {},
   "outputs": [
    {
     "name": "stdout",
     "output_type": "stream",
     "text": [
      "Squares: [1, 4, 9, 16, 25, 36, 49, 64, 81, 100]\n",
      "Long Words: ['quick', 'brown', 'jumps', 'over', 'lazy']\n",
      "Tuples: [(1, 1, 1), (2, 4, 8), (3, 9, 27), (4, 16, 64), (5, 25, 125)]\n"
     ]
    }
   ],
   "source": [
    "# 5. List Comprehensions\n",
    "# Question:\n",
    "# Use list comprehensions to create:\n",
    "# a) A list of squares of numbers from 1 to 10\n",
    "# b) A list of all words in a sentence that have more than 3 characters\n",
    "# c) A list of tuples (number, square, cube) for numbers from 1 to 5\n",
    "\n",
    "# Your code here:\n",
    "\n",
    "squares = [num ** 2 for num in range(1, 11)]\n",
    "print(\"Squares:\", squares)\n",
    "\n",
    "sentence = \"The quick brown fox jumps over the lazy dog\"\n",
    "words = sentence.split()\n",
    "long_words = [word for word in words if len(word) > 3]\n",
    "print(\"Long Words:\", long_words)\n",
    "\n",
    "tuples = [(num, num ** 2, num ** 3) for num in range(1, 6)]\n",
    "print(\"Tuples:\", tuples)"
   ]
  }
 ],
 "metadata": {
  "kernelspec": {
   "display_name": ".venv",
   "language": "python",
   "name": "python3"
  },
  "language_info": {
   "codemirror_mode": {
    "name": "ipython",
    "version": 3
   },
   "file_extension": ".py",
   "mimetype": "text/x-python",
   "name": "python",
   "nbconvert_exporter": "python",
   "pygments_lexer": "ipython3",
   "version": "3.12.1"
  }
 },
 "nbformat": 4,
 "nbformat_minor": 2
}
